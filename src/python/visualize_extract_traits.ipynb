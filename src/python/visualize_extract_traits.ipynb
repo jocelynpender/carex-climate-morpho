{
 "cells": [
  {
   "cell_type": "code",
   "execution_count": 1,
   "metadata": {
    "collapsed": true
   },
   "outputs": [],
   "source": [
    "import pandas as pd\n",
    "import matplotlib.pyplot as plt\n",
    "import seaborn as sns"
   ]
  },
  {
   "cell_type": "code",
   "execution_count": 3,
   "outputs": [
    {
     "data": {
      "text/plain": "             species_name   coded_property_name collapsed_data\n0          Carex_adrienii    maximum_leaf_width            3cm\n1          Carex_adrienii  maximum_plant_height           50cm\n2         Carex_aequialta    maximum_leaf_width            4mm\n3         Carex_aequialta  maximum_plant_height           60cm\n4       Carex_agglomerata    maximum_leaf_width            6mm\n...                   ...                   ...            ...\n1109  Carex_zhonghaiensis  maximum_plant_height       70cm;2mm\n1110   Carex_zizaniifolia    maximum_leaf_width          2.5cm\n1111   Carex_zizaniifolia  maximum_plant_height           70cm\n1112     Carex_zunyiensis    maximum_leaf_width     1.5cm;70cm\n1113     Carex_zunyiensis  maximum_plant_height            NaN\n\n[1114 rows x 3 columns]",
      "text/html": "<div>\n<style scoped>\n    .dataframe tbody tr th:only-of-type {\n        vertical-align: middle;\n    }\n\n    .dataframe tbody tr th {\n        vertical-align: top;\n    }\n\n    .dataframe thead th {\n        text-align: right;\n    }\n</style>\n<table border=\"1\" class=\"dataframe\">\n  <thead>\n    <tr style=\"text-align: right;\">\n      <th></th>\n      <th>species_name</th>\n      <th>coded_property_name</th>\n      <th>collapsed_data</th>\n    </tr>\n  </thead>\n  <tbody>\n    <tr>\n      <th>0</th>\n      <td>Carex_adrienii</td>\n      <td>maximum_leaf_width</td>\n      <td>3cm</td>\n    </tr>\n    <tr>\n      <th>1</th>\n      <td>Carex_adrienii</td>\n      <td>maximum_plant_height</td>\n      <td>50cm</td>\n    </tr>\n    <tr>\n      <th>2</th>\n      <td>Carex_aequialta</td>\n      <td>maximum_leaf_width</td>\n      <td>4mm</td>\n    </tr>\n    <tr>\n      <th>3</th>\n      <td>Carex_aequialta</td>\n      <td>maximum_plant_height</td>\n      <td>60cm</td>\n    </tr>\n    <tr>\n      <th>4</th>\n      <td>Carex_agglomerata</td>\n      <td>maximum_leaf_width</td>\n      <td>6mm</td>\n    </tr>\n    <tr>\n      <th>...</th>\n      <td>...</td>\n      <td>...</td>\n      <td>...</td>\n    </tr>\n    <tr>\n      <th>1109</th>\n      <td>Carex_zhonghaiensis</td>\n      <td>maximum_plant_height</td>\n      <td>70cm;2mm</td>\n    </tr>\n    <tr>\n      <th>1110</th>\n      <td>Carex_zizaniifolia</td>\n      <td>maximum_leaf_width</td>\n      <td>2.5cm</td>\n    </tr>\n    <tr>\n      <th>1111</th>\n      <td>Carex_zizaniifolia</td>\n      <td>maximum_plant_height</td>\n      <td>70cm</td>\n    </tr>\n    <tr>\n      <th>1112</th>\n      <td>Carex_zunyiensis</td>\n      <td>maximum_leaf_width</td>\n      <td>1.5cm;70cm</td>\n    </tr>\n    <tr>\n      <th>1113</th>\n      <td>Carex_zunyiensis</td>\n      <td>maximum_plant_height</td>\n      <td>NaN</td>\n    </tr>\n  </tbody>\n</table>\n<p>1114 rows × 3 columns</p>\n</div>"
     },
     "execution_count": 3,
     "metadata": {},
     "output_type": "execute_result"
    }
   ],
   "source": [
    "carex_traits = pd.read_csv(\"../../data/processed/foc/carex_traits_collapsed.csv\", index_col=0)\n",
    "carex_traits"
   ],
   "metadata": {
    "collapsed": false,
    "pycharm": {
     "name": "#%%\n"
    }
   }
  },
  {
   "cell_type": "code",
   "execution_count": 5,
   "outputs": [
    {
     "data": {
      "text/plain": "<Figure size 432x288 with 1 Axes>",
      "image/png": "[encoded data removed]"
     },
     "metadata": {
      "needs_background": "light"
     },
     "output_type": "display_data"
    }
   ],
   "source": [
    "g = sns.countplot(y=\"coded_property_name\", data=carex_traits)"
   ],
   "metadata": {
    "collapsed": false,
    "pycharm": {
     "name": "#%%\n"
    }
   }
  }
 ],
 "metadata": {
  "kernelspec": {
   "display_name": "Python 3",
   "language": "python",
   "name": "python3"
  },
  "language_info": {
   "codemirror_mode": {
    "name": "ipython",
    "version": 2
   },
   "file_extension": ".py",
   "mimetype": "text/x-python",
   "name": "python",
   "nbconvert_exporter": "python",
   "pygments_lexer": "ipython2",
   "version": "2.7.6"
  }
 },
 "nbformat": 4,
 "nbformat_minor": 0
}