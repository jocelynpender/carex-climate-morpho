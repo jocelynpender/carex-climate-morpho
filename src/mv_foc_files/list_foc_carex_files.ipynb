{
 "cells": [
  {
   "cell_type": "code",
   "execution_count": 12,
   "metadata": {
    "scrolled": false,
    "pycharm": {
     "name": "#%%\n"
    }
   },
   "outputs": [],
   "source": [
    "from __future__ import print_function\n",
    "import sys\n",
    "import glob\n",
    "from lxml import etree\n",
    "import csv"
   ]
  },
  {
   "cell_type": "code",
   "execution_count": 17,
   "outputs": [
    {
     "name": "stdout",
     "output_type": "stream",
     "text": [
      "['Amphiscirpus']\n",
      "['Blysmopsis']\n",
      "['Blysmus']\n",
      "['Calliscirpus']\n",
      "['Carex']\n",
      "['Cymophyllus']\n",
      "['Cypringlea']\n",
      "['Dulichium']\n",
      "['Eriophorum']\n",
      "['Khaosokia']\n",
      "['Kobresia']\n",
      "['Oreobolopsis']\n",
      "['Phylloscirpus']\n",
      "['Rhodoscirpus']\n",
      "['Schoenoxiphium']\n",
      "['Scirpus']\n",
      "['Sumatroscirpus']\n",
      "['Trichophorum']\n",
      "['Uncinia']\n",
      "['Zameioscirpus']\n"
     ]
    }
   ],
   "source": [
    "# grab list of genera to extract\n",
    "with open(\"../../data/interim/genera_list.csv\", newline='') as file:\n",
    "    reader = csv.reader(file)\n",
    "    genera = list(reader)\n",
    "\n",
    "for genus in genera:\n",
    "    print(genus)"
   ],
   "metadata": {
    "collapsed": false,
    "pycharm": {
     "name": "#%%\n"
    }
   }
  },
  {
   "cell_type": "code",
   "execution_count": 20,
   "outputs": [],
   "source": [
    "#file = sys.argv[1]\n",
    "#file = '../../../coarse_grained_fna_xml/V2/V2_134.xml'\n",
    "for volume_path in glob.glob(\"/Users/jocelynpender/fc/fochina/FoCV23\"):\n",
    "    volume = volume_path.split(\"/\")[-1]\n",
    "#volume = \"25\"\n",
    "    my_file=open(\"//Users/jocelynpender/carex-climate-morpho/data/interim/\" + volume + \\\n",
    "                 \"_treatment_list.txt\",\"w\")\n",
    "    for file_name in sorted(glob.glob(\"/Users/jocelynpender/fc/fochina/FoC2-5.13-25/FoCV23/*.xml\")):\n",
    "        tree = etree.parse(file_name)\n",
    "        # define root\n",
    "        root = tree.getroot()\n",
    "        # find ACCEPTED taxon_indentification:\n",
    "\n",
    "        for taxon_identification in root.findall(\"./taxon_identification/[@status='ACCEPTED']\"):\n",
    "            # find all taxon_name under ACCEPTED taxon_identification\n",
    "            for taxon_name in taxon_identification.findall('./genus_name'):\n",
    "                print(taxon_name.text + \",\" + file_name)\n",
    "                for genus in genera:\n",
    "                    print(genus[0])\n",
    "                    if taxon_name.text == genus[0]:\n",
    "                        file_name = file_name.split('/')[-1]\n",
    "                        my_file.write(file_name+'\\n')\n",
    "\n",
    "    my_file.close()\n",
    "\n"
   ],
   "metadata": {
    "collapsed": false,
    "pycharm": {
     "name": "#%%\n"
    }
   }
  }
 ],
 "metadata": {
  "kernelspec": {
   "display_name": "Python 3",
   "language": "python",
   "name": "python3"
  },
  "language_info": {
   "codemirror_mode": {
    "name": "ipython",
    "version": 3
   },
   "file_extension": ".py",
   "mimetype": "text/x-python",
   "name": "python",
   "nbconvert_exporter": "python",
   "pygments_lexer": "ipython3",
   "version": "3.7.3"
  }
 },
 "nbformat": 4,
 "nbformat_minor": 2
}